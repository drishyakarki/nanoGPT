{
 "cells": [
  {
   "cell_type": "code",
   "execution_count": 9,
   "metadata": {},
   "outputs": [],
   "source": [
    "train_data = 'data/train.txt'"
   ]
  },
  {
   "cell_type": "code",
   "execution_count": 10,
   "metadata": {},
   "outputs": [],
   "source": [
    "with open(train_data, 'r', encoding='utf-8') as f:\n",
    "    text = f.read()"
   ]
  },
  {
   "cell_type": "code",
   "execution_count": 11,
   "metadata": {},
   "outputs": [
    {
     "name": "stdout",
     "output_type": "stream",
     "text": [
      "length of dataset in characters:  3520678\n"
     ]
    }
   ],
   "source": [
    "print(\"length of dataset in characters: \", len(text))"
   ]
  },
  {
   "cell_type": "code",
   "execution_count": 12,
   "metadata": {},
   "outputs": [
    {
     "name": "stdout",
     "output_type": "stream",
     "text": [
      "Once upon a time there was a mommy and her baby. Mommy wanted to keep the baby safe, so she taught the baby to not touch anything yellow. \n",
      "Mommy said, \"Baby, please don't touch the yellow because it might be dangerous. It's better to be safe and prevent any harm.\"\n",
      "But one day, the baby saw a yellow butterfly fluttering around. The butterfly was so pretty, and it looked harmless.\n",
      "The baby asked, \"Mommy, can I touch the butterfly?\"\n",
      "Mommy said, \"Yes, you can, baby. That butterfly is harmless and won't hurt you. But remember, don't touch the yellow things that don't look harmless.\"\n",
      "The baby nodded and smiled. From then on, the baby knew to be careful when it came to yellow.\n",
      "<|endoftext|>\n",
      "\n",
      "Micky was a funny little mouse. He liked to do things differently. One day, he had an idea for a new game.\n",
      "Micky went over to his friend Daisy's house. \"Let's play a game!\", he said. Daisy smiled.\n",
      "Micky asked Daisy to stand on one foot and balance a juice bottle on her neck. They both had a lot of fun. Mi\n"
     ]
    }
   ],
   "source": [
    "print(text[:1000])"
   ]
  },
  {
   "cell_type": "code",
   "execution_count": 13,
   "metadata": {},
   "outputs": [
    {
     "name": "stdout",
     "output_type": "stream",
     "text": [
      "\n",
      " !\"$',-.0123456789:;<>?ABCDEFGHIJKLMNOPQRSTUVWXYZabcdefghijklmnopqrstuvwxyz|¡«»áéñó–—‘’“”…\n",
      "91\n"
     ]
    }
   ],
   "source": [
    "chars = sorted(list(set(text)))\n",
    "vocab_size = len(chars)\n",
    "print(''.join(chars))\n",
    "print(vocab_size)"
   ]
  },
  {
   "cell_type": "code",
   "execution_count": 14,
   "metadata": {},
   "outputs": [
    {
     "name": "stdout",
     "output_type": "stream",
     "text": [
      "[57, 58, 58, 1, 69, 57, 54, 67, 54]\n",
      "hii there\n"
     ]
    }
   ],
   "source": [
    "stoi = { ch:i for i,ch in enumerate(chars) }\n",
    "itos = { i:ch for i,ch in enumerate(chars) }\n",
    "encode = lambda s: [stoi[c] for c in s] # encoder: take a string, output a list of integers\n",
    "decode = lambda l: ''.join([itos[i] for i in l]) # decoder: take a list of integers, output a string\n",
    "\n",
    "print(encode(\"hii there\"))\n",
    "print(decode(encode(\"hii there\")))"
   ]
  },
  {
   "cell_type": "code",
   "execution_count": 15,
   "metadata": {},
   "outputs": [],
   "source": [
    "import torch\n",
    "data = torch.tensor(encode(text), dtype = torch.long)"
   ]
  },
  {
   "cell_type": "code",
   "execution_count": 16,
   "metadata": {},
   "outputs": [
    {
     "data": {
      "text/plain": [
       "(torch.Size([3520678]), torch.int64)"
      ]
     },
     "execution_count": 16,
     "metadata": {},
     "output_type": "execute_result"
    }
   ],
   "source": [
    "data.shape, data.dtype"
   ]
  },
  {
   "cell_type": "code",
   "execution_count": 19,
   "metadata": {},
   "outputs": [],
   "source": [
    "n = int(0.9*len(data)) # first 90% will be train, rest val\n",
    "train_data = data[:n]\n",
    "val_data = data[n:]"
   ]
  },
  {
   "cell_type": "code",
   "execution_count": 20,
   "metadata": {},
   "outputs": [
    {
     "data": {
      "text/plain": [
       "tensor([38, 63, 52, 54,  1, 70, 65, 64, 63])"
      ]
     },
     "execution_count": 20,
     "metadata": {},
     "output_type": "execute_result"
    }
   ],
   "source": [
    "block_size = 8\n",
    "train_data[:block_size+1]"
   ]
  },
  {
   "cell_type": "code",
   "execution_count": 21,
   "metadata": {},
   "outputs": [
    {
     "name": "stdout",
     "output_type": "stream",
     "text": [
      "when input is tensor([38]) the target: 63\n",
      "when input is tensor([38, 63]) the target: 52\n",
      "when input is tensor([38, 63, 52]) the target: 54\n",
      "when input is tensor([38, 63, 52, 54]) the target: 1\n",
      "when input is tensor([38, 63, 52, 54,  1]) the target: 70\n",
      "when input is tensor([38, 63, 52, 54,  1, 70]) the target: 65\n",
      "when input is tensor([38, 63, 52, 54,  1, 70, 65]) the target: 64\n",
      "when input is tensor([38, 63, 52, 54,  1, 70, 65, 64]) the target: 63\n"
     ]
    }
   ],
   "source": [
    "x = train_data[:block_size]\n",
    "y = train_data[1:block_size+1]\n",
    "for t in range(block_size):\n",
    "    context = x[:t+1]\n",
    "    target = y[t]\n",
    "    print(f\"when input is {context} the target: {target}\")"
   ]
  },
  {
   "cell_type": "code",
   "execution_count": 22,
   "metadata": {},
   "outputs": [
    {
     "name": "stdout",
     "output_type": "stream",
     "text": [
      "inputs:\n",
      "torch.Size([4, 8])\n",
      "tensor([[ 1, 64, 63,  1, 57, 54, 67,  1],\n",
      "        [55, 67, 58, 54, 63, 53,  8,  3],\n",
      "        [62,  1, 53, 64, 54, 68,  1, 63],\n",
      "        [ 1, 61, 64, 50, 53, 54, 53,  1]])\n",
      "targets:\n",
      "torch.Size([4, 8])\n",
      "tensor([[64, 63,  1, 57, 54, 67,  1, 72],\n",
      "        [67, 58, 54, 63, 53,  8,  3,  0],\n",
      "        [ 1, 53, 64, 54, 68,  1, 63, 64],\n",
      "        [61, 64, 50, 53, 54, 53,  1, 72]])\n",
      "----\n",
      "when input is [1] the target: 64\n",
      "when input is [1, 64] the target: 63\n",
      "when input is [1, 64, 63] the target: 1\n",
      "when input is [1, 64, 63, 1] the target: 57\n",
      "when input is [1, 64, 63, 1, 57] the target: 54\n",
      "when input is [1, 64, 63, 1, 57, 54] the target: 67\n",
      "when input is [1, 64, 63, 1, 57, 54, 67] the target: 1\n",
      "when input is [1, 64, 63, 1, 57, 54, 67, 1] the target: 72\n",
      "when input is [55] the target: 67\n",
      "when input is [55, 67] the target: 58\n",
      "when input is [55, 67, 58] the target: 54\n",
      "when input is [55, 67, 58, 54] the target: 63\n",
      "when input is [55, 67, 58, 54, 63] the target: 53\n",
      "when input is [55, 67, 58, 54, 63, 53] the target: 8\n",
      "when input is [55, 67, 58, 54, 63, 53, 8] the target: 3\n",
      "when input is [55, 67, 58, 54, 63, 53, 8, 3] the target: 0\n",
      "when input is [62] the target: 1\n",
      "when input is [62, 1] the target: 53\n",
      "when input is [62, 1, 53] the target: 64\n",
      "when input is [62, 1, 53, 64] the target: 54\n",
      "when input is [62, 1, 53, 64, 54] the target: 68\n",
      "when input is [62, 1, 53, 64, 54, 68] the target: 1\n",
      "when input is [62, 1, 53, 64, 54, 68, 1] the target: 63\n",
      "when input is [62, 1, 53, 64, 54, 68, 1, 63] the target: 64\n",
      "when input is [1] the target: 61\n",
      "when input is [1, 61] the target: 64\n",
      "when input is [1, 61, 64] the target: 50\n",
      "when input is [1, 61, 64, 50] the target: 53\n",
      "when input is [1, 61, 64, 50, 53] the target: 54\n",
      "when input is [1, 61, 64, 50, 53, 54] the target: 53\n",
      "when input is [1, 61, 64, 50, 53, 54, 53] the target: 1\n",
      "when input is [1, 61, 64, 50, 53, 54, 53, 1] the target: 72\n"
     ]
    }
   ],
   "source": [
    "batch_size = 4 # how many independent sequences will we process in parallel?\n",
    "block_size = 8 # what is the maximum context length for predictions?\n",
    "\n",
    "def get_batch(split):\n",
    "    # generate a small batch of data of inputs x and targets y\n",
    "    data = train_data if split == 'train' else val_data\n",
    "    ix = torch.randint(len(data) - block_size, (batch_size,))\n",
    "    x = torch.stack([data[i:i+block_size] for i in ix])\n",
    "    y = torch.stack([data[i+1:i+block_size+1] for i in ix])\n",
    "    return x, y\n",
    "\n",
    "xb, yb = get_batch('train')\n",
    "print('inputs:')\n",
    "print(xb.shape)\n",
    "print(xb)\n",
    "print('targets:')\n",
    "print(yb.shape)\n",
    "print(yb)\n",
    "\n",
    "print('----')\n",
    "\n",
    "for b in range(batch_size): # batch dimension\n",
    "    for t in range(block_size): # time dimension\n",
    "        context = xb[b, :t+1]\n",
    "        target = yb[b,t]\n",
    "        print(f\"when input is {context.tolist()} the target: {target}\")"
   ]
  },
  {
   "cell_type": "code",
   "execution_count": 23,
   "metadata": {},
   "outputs": [
    {
     "name": "stdout",
     "output_type": "stream",
     "text": [
      "torch.Size([32, 91])\n",
      "tensor(4.6985, grad_fn=<NllLossBackward0>)\n",
      "\n",
      "QñXe?Lw¡mP5Ah5JUoEos2TX¡…8kKDá<kv9“lM—Qnzngeol69.…<Nl¡RfñtD;’n”'GR?v'Lom\n",
      "HpóF3eoóO¡my<ñbzZozn”'T9gid\n"
     ]
    }
   ],
   "source": [
    "import torch\n",
    "import torch.nn as nn\n",
    "from torch.nn import functional as F\n",
    "torch.manual_seed(1337)\n",
    "\n",
    "class BigramLanguageModel(nn.Module):\n",
    "\n",
    "    def __init__(self, vocab_size):\n",
    "        super().__init__()\n",
    "        # each token directly reads off the logits for the next token from a lookup table\n",
    "        self.token_embedding_table = nn.Embedding(vocab_size, vocab_size)\n",
    "\n",
    "    def forward(self, idx, targets=None):\n",
    "\n",
    "        # idx and targets are both (B,T) tensor of integers\n",
    "        logits = self.token_embedding_table(idx) # (B,T,C)\n",
    "\n",
    "        if targets is None:\n",
    "            loss = None\n",
    "        else:\n",
    "            B, T, C = logits.shape\n",
    "            logits = logits.view(B*T, C)\n",
    "            targets = targets.view(B*T)\n",
    "            loss = F.cross_entropy(logits, targets)\n",
    "\n",
    "        return logits, loss\n",
    "\n",
    "    def generate(self, idx, max_new_tokens):\n",
    "        # idx is (B, T) array of indices in the current context\n",
    "        for _ in range(max_new_tokens):\n",
    "            # get the predictions\n",
    "            logits, loss = self(idx)\n",
    "            # focus only on the last time step\n",
    "            logits = logits[:, -1, :] # becomes (B, C)\n",
    "            # apply softmax to get probabilities\n",
    "            probs = F.softmax(logits, dim=-1) # (B, C)\n",
    "            # sample from the distribution\n",
    "            idx_next = torch.multinomial(probs, num_samples=1) # (B, 1)\n",
    "            # append sampled index to the running sequence\n",
    "            idx = torch.cat((idx, idx_next), dim=1) # (B, T+1)\n",
    "        return idx\n",
    "\n",
    "m = BigramLanguageModel(vocab_size)\n",
    "logits, loss = m(xb, yb)\n",
    "print(logits.shape)\n",
    "print(loss)\n",
    "\n",
    "print(decode(m.generate(idx = torch.zeros((1, 1), dtype=torch.long), max_new_tokens=100)[0].tolist()))"
   ]
  },
  {
   "cell_type": "code",
   "execution_count": 24,
   "metadata": {},
   "outputs": [],
   "source": [
    "optimizer = torch.optim.AdamW(m.parameters(), lr=1e-3)"
   ]
  },
  {
   "cell_type": "code",
   "execution_count": 28,
   "metadata": {},
   "outputs": [
    {
     "name": "stdout",
     "output_type": "stream",
     "text": [
      "0.213083 M parameters\n",
      "step 0: train loss 4.6437, val loss 4.6457\n",
      "step 100: train loss 3.4347, val loss 3.4461\n",
      "step 200: train loss 3.0727, val loss 3.1066\n",
      "step 300: train loss 2.8683, val loss 2.8958\n",
      "step 400: train loss 2.7291, val loss 2.7637\n",
      "step 500: train loss 2.6404, val loss 2.6803\n",
      "step 600: train loss 2.5763, val loss 2.6154\n",
      "step 700: train loss 2.5183, val loss 2.5629\n",
      "step 800: train loss 2.4841, val loss 2.5189\n",
      "step 900: train loss 2.4542, val loss 2.4807\n",
      "step 1000: train loss 2.4205, val loss 2.4514\n",
      "step 1100: train loss 2.3872, val loss 2.4253\n",
      "step 1200: train loss 2.3612, val loss 2.4043\n",
      "step 1300: train loss 2.3452, val loss 2.3745\n",
      "step 1400: train loss 2.3160, val loss 2.3458\n",
      "step 1500: train loss 2.2987, val loss 2.3366\n",
      "step 1600: train loss 2.2809, val loss 2.3107\n",
      "step 1700: train loss 2.2600, val loss 2.2866\n",
      "step 1800: train loss 2.2461, val loss 2.2765\n",
      "step 1900: train loss 2.2273, val loss 2.2539\n",
      "step 2000: train loss 2.2104, val loss 2.2402\n",
      "step 2100: train loss 2.2044, val loss 2.2321\n",
      "step 2200: train loss 2.1898, val loss 2.2175\n",
      "step 2300: train loss 2.1677, val loss 2.1977\n",
      "step 2400: train loss 2.1564, val loss 2.1841\n",
      "step 2500: train loss 2.1427, val loss 2.1760\n",
      "step 2600: train loss 2.1321, val loss 2.1644\n",
      "step 2700: train loss 2.1181, val loss 2.1606\n",
      "step 2800: train loss 2.1059, val loss 2.1372\n",
      "step 2900: train loss 2.1057, val loss 2.1369\n",
      "step 3000: train loss 2.0911, val loss 2.1139\n",
      "step 3100: train loss 2.0803, val loss 2.1069\n",
      "step 3200: train loss 2.0730, val loss 2.1071\n",
      "step 3300: train loss 2.0660, val loss 2.0892\n",
      "step 3400: train loss 2.0455, val loss 2.0823\n",
      "step 3500: train loss 2.0264, val loss 2.0708\n",
      "step 3600: train loss 2.0345, val loss 2.0579\n",
      "step 3700: train loss 2.0129, val loss 2.0544\n",
      "step 3800: train loss 2.0046, val loss 2.0434\n",
      "step 3900: train loss 1.9976, val loss 2.0322\n",
      "step 4000: train loss 1.9828, val loss 2.0226\n",
      "step 4100: train loss 1.9790, val loss 2.0178\n",
      "step 4200: train loss 1.9791, val loss 2.0141\n",
      "step 4300: train loss 1.9544, val loss 1.9891\n",
      "step 4400: train loss 1.9567, val loss 1.9974\n",
      "step 4500: train loss 1.9412, val loss 1.9760\n",
      "step 4600: train loss 1.9305, val loss 1.9633\n",
      "step 4700: train loss 1.9318, val loss 1.9581\n",
      "step 4800: train loss 1.9087, val loss 1.9423\n",
      "step 4900: train loss 1.9144, val loss 1.9369\n",
      "step 5000: train loss 1.8988, val loss 1.9321\n",
      "step 5100: train loss 1.9072, val loss 1.9314\n",
      "step 5200: train loss 1.8795, val loss 1.9109\n",
      "step 5300: train loss 1.8715, val loss 1.9029\n",
      "step 5400: train loss 1.8597, val loss 1.9010\n",
      "step 5500: train loss 1.8624, val loss 1.8964\n",
      "step 5600: train loss 1.8513, val loss 1.8828\n",
      "step 5700: train loss 1.8414, val loss 1.8920\n",
      "step 5800: train loss 1.8403, val loss 1.8714\n",
      "step 5900: train loss 1.8306, val loss 1.8628\n",
      "step 6000: train loss 1.8085, val loss 1.8546\n",
      "step 6100: train loss 1.8104, val loss 1.8468\n",
      "step 6200: train loss 1.8133, val loss 1.8457\n",
      "step 6300: train loss 1.8094, val loss 1.8401\n",
      "step 6400: train loss 1.7952, val loss 1.8302\n",
      "step 6500: train loss 1.7920, val loss 1.8191\n"
     ]
    }
   ],
   "source": [
    "import torch\n",
    "import torch.nn as nn\n",
    "from torch.nn import functional as F\n",
    "\n",
    "# hyperparameters\n",
    "batch_size = 16 # how many independent sequences will we process in parallel?\n",
    "block_size = 32 # what is the maximum context length for predictions?\n",
    "max_iters = 10000\n",
    "eval_interval = 100\n",
    "learning_rate = 1e-4\n",
    "device = 'cuda' if torch.cuda.is_available() else 'cpu'\n",
    "eval_iters = 200\n",
    "n_embd = 64\n",
    "n_head = 4\n",
    "n_layer = 4\n",
    "dropout = 0.0\n",
    "# ------------\n",
    "\n",
    "torch.manual_seed(1337)\n",
    "\n",
    "# wget https://raw.githubusercontent.com/karpathy/char-rnn/master/data/tinyshakespeare/input.txt\n",
    "with open('data/train.txt', 'r', encoding='utf-8') as f:\n",
    "    text = f.read()\n",
    "\n",
    "# here are all the unique characters that occur in this text\n",
    "chars = sorted(list(set(text)))\n",
    "vocab_size = len(chars)\n",
    "# create a mapping from characters to integers\n",
    "stoi = { ch:i for i,ch in enumerate(chars) }\n",
    "itos = { i:ch for i,ch in enumerate(chars) }\n",
    "encode = lambda s: [stoi[c] for c in s] # encoder: take a string, output a list of integers\n",
    "decode = lambda l: ''.join([itos[i] for i in l]) # decoder: take a list of integers, output a string\n",
    "\n",
    "# Train and test splits\n",
    "data = torch.tensor(encode(text), dtype=torch.long)\n",
    "n = int(0.9*len(data)) # first 90% will be train, rest val\n",
    "train_data = data[:n]\n",
    "val_data = data[n:]\n",
    "\n",
    "# data loading\n",
    "def get_batch(split):\n",
    "    # generate a small batch of data of inputs x and targets y\n",
    "    data = train_data if split == 'train' else val_data\n",
    "    ix = torch.randint(len(data) - block_size, (batch_size,))\n",
    "    x = torch.stack([data[i:i+block_size] for i in ix])\n",
    "    y = torch.stack([data[i+1:i+block_size+1] for i in ix])\n",
    "    x, y = x.to(device), y.to(device)\n",
    "    return x, y\n",
    "\n",
    "@torch.no_grad()\n",
    "def estimate_loss():\n",
    "    out = {}\n",
    "    model.eval()\n",
    "    for split in ['train', 'val']:\n",
    "        losses = torch.zeros(eval_iters)\n",
    "        for k in range(eval_iters):\n",
    "            X, Y = get_batch(split)\n",
    "            logits, loss = model(X, Y)\n",
    "            losses[k] = loss.item()\n",
    "        out[split] = losses.mean()\n",
    "    model.train()\n",
    "    return out\n",
    "\n",
    "class Head(nn.Module):\n",
    "    \"\"\" one head of self-attention \"\"\"\n",
    "\n",
    "    def __init__(self, head_size):\n",
    "        super().__init__()\n",
    "        self.key = nn.Linear(n_embd, head_size, bias=False)\n",
    "        self.query = nn.Linear(n_embd, head_size, bias=False)\n",
    "        self.value = nn.Linear(n_embd, head_size, bias=False)\n",
    "        self.register_buffer('tril', torch.tril(torch.ones(block_size, block_size)))\n",
    "\n",
    "        self.dropout = nn.Dropout(dropout)\n",
    "\n",
    "    def forward(self, x):\n",
    "        B,T,C = x.shape\n",
    "        k = self.key(x)   # (B,T,C)\n",
    "        q = self.query(x) # (B,T,C)\n",
    "        # compute attention scores (\"affinities\")\n",
    "        wei = q @ k.transpose(-2,-1) * C**-0.5 # (B, T, C) @ (B, C, T) -> (B, T, T)\n",
    "        wei = wei.masked_fill(self.tril[:T, :T] == 0, float('-inf')) # (B, T, T)\n",
    "        wei = F.softmax(wei, dim=-1) # (B, T, T)\n",
    "        wei = self.dropout(wei)\n",
    "        # perform the weighted aggregation of the values\n",
    "        v = self.value(x) # (B,T,C)\n",
    "        out = wei @ v # (B, T, T) @ (B, T, C) -> (B, T, C)\n",
    "        return out\n",
    "\n",
    "class MultiHeadAttention(nn.Module):\n",
    "    \"\"\" multiple heads of self-attention in parallel \"\"\"\n",
    "\n",
    "    def __init__(self, num_heads, head_size):\n",
    "        super().__init__()\n",
    "        self.heads = nn.ModuleList([Head(head_size) for _ in range(num_heads)])\n",
    "        self.proj = nn.Linear(n_embd, n_embd)\n",
    "        self.dropout = nn.Dropout(dropout)\n",
    "\n",
    "    def forward(self, x):\n",
    "        out = torch.cat([h(x) for h in self.heads], dim=-1)\n",
    "        out = self.dropout(self.proj(out))\n",
    "        return out\n",
    "\n",
    "class FeedFoward(nn.Module):\n",
    "    \"\"\" a simple linear layer followed by a non-linearity \"\"\"\n",
    "\n",
    "    def __init__(self, n_embd):\n",
    "        super().__init__()\n",
    "        self.net = nn.Sequential(\n",
    "            nn.Linear(n_embd, 4 * n_embd),\n",
    "            nn.ReLU(),\n",
    "            nn.Linear(4 * n_embd, n_embd),\n",
    "            nn.Dropout(dropout),\n",
    "        )\n",
    "\n",
    "    def forward(self, x):\n",
    "        return self.net(x)\n",
    "\n",
    "class Block(nn.Module):\n",
    "    \"\"\" Transformer block: communication followed by computation \"\"\"\n",
    "\n",
    "    def __init__(self, n_embd, n_head):\n",
    "        # n_embd: embedding dimension, n_head: the number of heads we'd like\n",
    "        super().__init__()\n",
    "        head_size = n_embd // n_head\n",
    "        self.sa = MultiHeadAttention(n_head, head_size)\n",
    "        self.ffwd = FeedFoward(n_embd)\n",
    "        self.ln1 = nn.LayerNorm(n_embd)\n",
    "        self.ln2 = nn.LayerNorm(n_embd)\n",
    "\n",
    "    def forward(self, x):\n",
    "        x = x + self.sa(self.ln1(x))\n",
    "        x = x + self.ffwd(self.ln2(x))\n",
    "        return x\n",
    "\n",
    "# super simple bigram model\n",
    "class BigramLanguageModel(nn.Module):\n",
    "\n",
    "    def __init__(self):\n",
    "        super().__init__()\n",
    "        # each token directly reads off the logits for the next token from a lookup table\n",
    "        self.token_embedding_table = nn.Embedding(vocab_size, n_embd)\n",
    "        self.position_embedding_table = nn.Embedding(block_size, n_embd)\n",
    "        self.blocks = nn.Sequential(*[Block(n_embd, n_head=n_head) for _ in range(n_layer)])\n",
    "        self.ln_f = nn.LayerNorm(n_embd) # final layer norm\n",
    "        self.lm_head = nn.Linear(n_embd, vocab_size)\n",
    "\n",
    "    def forward(self, idx, targets=None):\n",
    "        B, T = idx.shape\n",
    "\n",
    "        # idx and targets are both (B,T) tensor of integers\n",
    "        tok_emb = self.token_embedding_table(idx) # (B,T,C)\n",
    "        pos_emb = self.position_embedding_table(torch.arange(T, device=device)) # (T,C)\n",
    "        x = tok_emb + pos_emb # (B,T,C)\n",
    "        x = self.blocks(x) # (B,T,C)\n",
    "        x = self.ln_f(x) # (B,T,C)\n",
    "        logits = self.lm_head(x) # (B,T,vocab_size)\n",
    "\n",
    "        if targets is None:\n",
    "            loss = None\n",
    "        else:\n",
    "            B, T, C = logits.shape\n",
    "            logits = logits.view(B*T, C)\n",
    "            targets = targets.view(B*T)\n",
    "            loss = F.cross_entropy(logits, targets)\n",
    "\n",
    "        return logits, loss\n",
    "\n",
    "    def generate(self, idx, max_new_tokens):\n",
    "        # idx is (B, T) array of indices in the current context\n",
    "        for _ in range(max_new_tokens):\n",
    "            # crop idx to the last block_size tokens\n",
    "            idx_cond = idx[:, -block_size:]\n",
    "            # get the predictions\n",
    "            logits, loss = self(idx_cond)\n",
    "            # focus only on the last time step\n",
    "            logits = logits[:, -1, :] # becomes (B, C)\n",
    "            # apply softmax to get probabilities\n",
    "            probs = F.softmax(logits, dim=-1) # (B, C)\n",
    "            # sample from the distribution\n",
    "            idx_next = torch.multinomial(probs, num_samples=1) # (B, 1)\n",
    "            # append sampled index to the running sequence\n",
    "            idx = torch.cat((idx, idx_next), dim=1) # (B, T+1)\n",
    "        return idx\n",
    "\n",
    "model = BigramLanguageModel()\n",
    "m = model.to(device)\n",
    "# print the number of parameters in the model\n",
    "print(sum(p.numel() for p in m.parameters())/1e6, 'M parameters')\n",
    "\n",
    "# create a PyTorch optimizer\n",
    "optimizer = torch.optim.AdamW(model.parameters(), lr=learning_rate)\n",
    "\n",
    "for iter in range(max_iters):\n",
    "\n",
    "    # every once in a while evaluate the loss on train and val sets\n",
    "    if iter % eval_interval == 0 or iter == max_iters - 1:\n",
    "        losses = estimate_loss()\n",
    "        print(f\"step {iter}: train loss {losses['train']:.4f}, val loss {losses['val']:.4f}\")\n",
    "\n",
    "    # sample a batch of data\n",
    "    xb, yb = get_batch('train')\n",
    "\n",
    "    # evaluate the loss\n",
    "    logits, loss = model(xb, yb)\n",
    "    optimizer.zero_grad(set_to_none=True)\n",
    "    loss.backward()\n",
    "    optimizer.step()\n",
    "\n",
    "# generate from the model\n",
    "context = torch.zeros((1, 1), dtype=torch.long, device=device)\n",
    "print(decode(m.generate(context, max_new_tokens=2000)[0].tolist()))"
   ]
  },
  {
   "cell_type": "code",
   "execution_count": null,
   "metadata": {},
   "outputs": [],
   "source": []
  }
 ],
 "metadata": {
  "kernelspec": {
   "display_name": "venv",
   "language": "python",
   "name": "python3"
  },
  "language_info": {
   "codemirror_mode": {
    "name": "ipython",
    "version": 3
   },
   "file_extension": ".py",
   "mimetype": "text/x-python",
   "name": "python",
   "nbconvert_exporter": "python",
   "pygments_lexer": "ipython3",
   "version": "3.10.12"
  }
 },
 "nbformat": 4,
 "nbformat_minor": 2
}
